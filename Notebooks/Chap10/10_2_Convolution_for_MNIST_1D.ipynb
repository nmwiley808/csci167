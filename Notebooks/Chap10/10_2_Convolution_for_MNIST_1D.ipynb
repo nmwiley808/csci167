{
  "nbformat": 4,
  "nbformat_minor": 0,
  "metadata": {
    "colab": {
      "provenance": [],
      "include_colab_link": true
    },
    "kernelspec": {
      "name": "python3",
      "display_name": "Python 3"
    },
    "language_info": {
      "name": "python"
    }
  },
  "cells": [
    {
      "cell_type": "markdown",
      "metadata": {
        "id": "view-in-github",
        "colab_type": "text"
      },
      "source": [
        "<a href=\"https://colab.research.google.com/github/nmwiley808/csci167/blob/main/Notebooks/Chap10/10_2_Convolution_for_MNIST_1D.ipynb\" target=\"_parent\"><img src=\"https://colab.research.google.com/assets/colab-badge.svg\" alt=\"Open In Colab\"/></a>"
      ]
    },
    {
      "cell_type": "markdown",
      "source": [
        "# **Notebook 10.2: Convolution for MNIST-1D**\n",
        "\n",
        "This notebook investigates a 1D convolutional network for MNIST-1D as in figure 10.7 and 10.8a.\n",
        "\n",
        "Work through the cells below, running each cell in turn. In various places you will see the words \"TODO\". Follow the instructions at these places and make predictions about what is going to happen or write code to complete the functions.\n",
        "\n",
        "Contact me at udlbookmail@gmail.com if you find any mistakes or have any suggestions.\n",
        "\n"
      ],
      "metadata": {
        "id": "t9vk9Elugvmi"
      }
    },
    {
      "cell_type": "code",
      "source": [
        "# Run this if you're in a Colab to install MNIST 1D repository\n",
        "!pip install git+https://github.com/greydanus/mnist1d"
      ],
      "metadata": {
        "id": "D5yLObtZCi9J",
        "outputId": "46f22c9a-f664-4236-d2e6-f238d6aba46f",
        "colab": {
          "base_uri": "https://localhost:8080/"
        }
      },
      "execution_count": 1,
      "outputs": [
        {
          "output_type": "stream",
          "name": "stdout",
          "text": [
            "Collecting git+https://github.com/greydanus/mnist1d\n",
            "  Cloning https://github.com/greydanus/mnist1d to /tmp/pip-req-build-5yc27ie9\n",
            "  Running command git clone --filter=blob:none --quiet https://github.com/greydanus/mnist1d /tmp/pip-req-build-5yc27ie9\n",
            "  Resolved https://github.com/greydanus/mnist1d to commit 7878d96082abd200c546a07a4101fa90b30fdf7e\n",
            "  Installing build dependencies ... \u001b[?25l\u001b[?25hdone\n",
            "  Getting requirements to build wheel ... \u001b[?25l\u001b[?25hdone\n",
            "  Preparing metadata (pyproject.toml) ... \u001b[?25l\u001b[?25hdone\n",
            "Requirement already satisfied: requests in /usr/local/lib/python3.12/dist-packages (from mnist1d==0.0.2.post16) (2.32.4)\n",
            "Requirement already satisfied: numpy in /usr/local/lib/python3.12/dist-packages (from mnist1d==0.0.2.post16) (2.0.2)\n",
            "Requirement already satisfied: matplotlib in /usr/local/lib/python3.12/dist-packages (from mnist1d==0.0.2.post16) (3.10.0)\n",
            "Requirement already satisfied: scipy in /usr/local/lib/python3.12/dist-packages (from mnist1d==0.0.2.post16) (1.16.2)\n",
            "Requirement already satisfied: contourpy>=1.0.1 in /usr/local/lib/python3.12/dist-packages (from matplotlib->mnist1d==0.0.2.post16) (1.3.3)\n",
            "Requirement already satisfied: cycler>=0.10 in /usr/local/lib/python3.12/dist-packages (from matplotlib->mnist1d==0.0.2.post16) (0.12.1)\n",
            "Requirement already satisfied: fonttools>=4.22.0 in /usr/local/lib/python3.12/dist-packages (from matplotlib->mnist1d==0.0.2.post16) (4.60.1)\n",
            "Requirement already satisfied: kiwisolver>=1.3.1 in /usr/local/lib/python3.12/dist-packages (from matplotlib->mnist1d==0.0.2.post16) (1.4.9)\n",
            "Requirement already satisfied: packaging>=20.0 in /usr/local/lib/python3.12/dist-packages (from matplotlib->mnist1d==0.0.2.post16) (25.0)\n",
            "Requirement already satisfied: pillow>=8 in /usr/local/lib/python3.12/dist-packages (from matplotlib->mnist1d==0.0.2.post16) (11.3.0)\n",
            "Requirement already satisfied: pyparsing>=2.3.1 in /usr/local/lib/python3.12/dist-packages (from matplotlib->mnist1d==0.0.2.post16) (3.2.5)\n",
            "Requirement already satisfied: python-dateutil>=2.7 in /usr/local/lib/python3.12/dist-packages (from matplotlib->mnist1d==0.0.2.post16) (2.9.0.post0)\n",
            "Requirement already satisfied: charset_normalizer<4,>=2 in /usr/local/lib/python3.12/dist-packages (from requests->mnist1d==0.0.2.post16) (3.4.4)\n",
            "Requirement already satisfied: idna<4,>=2.5 in /usr/local/lib/python3.12/dist-packages (from requests->mnist1d==0.0.2.post16) (3.11)\n",
            "Requirement already satisfied: urllib3<3,>=1.21.1 in /usr/local/lib/python3.12/dist-packages (from requests->mnist1d==0.0.2.post16) (2.5.0)\n",
            "Requirement already satisfied: certifi>=2017.4.17 in /usr/local/lib/python3.12/dist-packages (from requests->mnist1d==0.0.2.post16) (2025.10.5)\n",
            "Requirement already satisfied: six>=1.5 in /usr/local/lib/python3.12/dist-packages (from python-dateutil>=2.7->matplotlib->mnist1d==0.0.2.post16) (1.17.0)\n"
          ]
        }
      ]
    },
    {
      "cell_type": "code",
      "source": [
        "import numpy as np\n",
        "import os\n",
        "import torch, torch.nn as nn\n",
        "from torch.utils.data import TensorDataset, DataLoader\n",
        "from torch.optim.lr_scheduler import StepLR\n",
        "import matplotlib.pyplot as plt\n",
        "import mnist1d\n",
        "import random"
      ],
      "metadata": {
        "id": "YrXWAH7sUWvU"
      },
      "execution_count": 2,
      "outputs": []
    },
    {
      "cell_type": "code",
      "source": [
        "args = mnist1d.data.get_dataset_args()\n",
        "data = mnist1d.data.get_dataset(args, path='./mnist1d_data.pkl', download=False, regenerate=False)\n",
        "\n",
        "# The training and test input and outputs are in\n",
        "# data['x'], data['y'], data['x_test'], and data['y_test']\n",
        "print(\"Examples in training set: {}\".format(len(data['y'])))\n",
        "print(\"Examples in test set: {}\".format(len(data['y_test'])))\n",
        "print(\"Length of each example: {}\".format(data['x'].shape[-1]))"
      ],
      "metadata": {
        "id": "twI72ZCrCt5z",
        "outputId": "6778ef91-46ea-458b-b6d7-67f519e96315",
        "colab": {
          "base_uri": "https://localhost:8080/"
        }
      },
      "execution_count": 3,
      "outputs": [
        {
          "output_type": "stream",
          "name": "stdout",
          "text": [
            "Successfully loaded data from ./mnist1d_data.pkl\n",
            "Examples in training set: 4000\n",
            "Examples in test set: 1000\n",
            "Length of each example: 40\n"
          ]
        }
      ]
    },
    {
      "cell_type": "code",
      "source": [
        "# Load in the data\n",
        "train_data_x = data['x'].transpose()\n",
        "train_data_y = data['y']\n",
        "val_data_x = data['x_test'].transpose()\n",
        "val_data_y = data['y_test']\n",
        "# Print out sizes\n",
        "print(\"Train data: %d examples (columns), each of which has %d dimensions (rows)\"%((train_data_x.shape[1],train_data_x.shape[0])))\n",
        "print(\"Validation data: %d examples (columns), each of which has %d dimensions (rows)\"%((val_data_x.shape[1],val_data_x.shape[0])))"
      ],
      "metadata": {
        "id": "8bKADvLHbiV5",
        "outputId": "da5bb227-2668-4e42-9f28-fd392fd5d21f",
        "colab": {
          "base_uri": "https://localhost:8080/"
        }
      },
      "execution_count": 4,
      "outputs": [
        {
          "output_type": "stream",
          "name": "stdout",
          "text": [
            "Train data: 4000 examples (columns), each of which has 40 dimensions (rows)\n",
            "Validation data: 1000 examples (columns), each of which has 40 dimensions (rows)\n"
          ]
        }
      ]
    },
    {
      "cell_type": "markdown",
      "source": [
        "Define the network"
      ],
      "metadata": {
        "id": "_sFvRDGrl4qe"
      }
    },
    {
      "cell_type": "code",
      "source": [
        "# There are 40 input dimensions and 10 output dimensions for this data\n",
        "# The inputs correspond to the 40 offsets in the MNIST1D template.\n",
        "D_i = 40\n",
        "# The outputs correspond to the 10 digits\n",
        "D_o = 10\n",
        "\n",
        "\n",
        "# TODO Create a model with the following layers\n",
        "# 1. Convolutional layer, (input=length 40 and 1 channel, kernel size 3, stride 2,\n",
        "#    padding=\"valid\", 15 output channels )\n",
        "# 2. ReLU\n",
        "# 3. Convolutional layer, (input=length 19 and 15 channels, kernel size 3, stride 2, padding=\"valid\", 15 output channels )\n",
        "# 4. ReLU\n",
        "# 5. Convolutional layer, (input=length 9 and 15 channels, kernel size 3, stride 2, padding=\"valid\", 15 output channels)\n",
        "# 6. ReLU\n",
        "# 7. Flatten (converts 4x15) to length 60\n",
        "# 8. Linear layer (input size = 60, output size = 10)\n",
        "# References:\n",
        "# https://pytorch.org/docs/1.13/generated/torch.nn.Conv1d.html?highlight=conv1d#torch.nn.Conv1d\n",
        "# https://pytorch.org/docs/stable/generated/torch.nn.Flatten.html\n",
        "# https://pytorch.org/docs/1.13/generated/torch.nn.Linear.html?highlight=linear#torch.nn.Linear\n",
        "\n",
        "# NOTE THAT THE CONVOLUTIONAL LAYERS NEED TO TAKE THE NUMBER OF INPUT CHANNELS AS A PARAMETER\n",
        "# AND NOT THE INPUT SIZE.\n",
        "\n",
        "model = nn.Sequential(\n",
        "    nn.Conv1d(in_channels=1, out_channels=15, kernel_size=3, stride=2, padding=0),\n",
        "    nn.ReLU(),\n",
        "    nn.Conv1d(in_channels=15, out_channels=15, kernel_size=3, stride=2, padding=0),\n",
        "    nn.ReLU(),\n",
        "    nn.Conv1d(in_channels=15, out_channels=15, kernel_size=3, stride=2, padding=0),\n",
        "    nn.ReLU(),\n",
        "    nn.Flatten(),\n",
        "    nn.Linear(60, 10)  # Adjust input size to match the flattened size\n",
        ")\n",
        "\n",
        "\n",
        "\n"
      ],
      "metadata": {
        "id": "FslroPJJffrh"
      },
      "execution_count": 5,
      "outputs": []
    },
    {
      "cell_type": "code",
      "source": [
        "print(model)"
      ],
      "metadata": {
        "id": "uYuKOa7jDqsK",
        "outputId": "277667dc-9d38-4433-b6d1-49574a20f978",
        "colab": {
          "base_uri": "https://localhost:8080/"
        }
      },
      "execution_count": 6,
      "outputs": [
        {
          "output_type": "stream",
          "name": "stdout",
          "text": [
            "Sequential(\n",
            "  (0): Conv1d(1, 15, kernel_size=(3,), stride=(2,))\n",
            "  (1): ReLU()\n",
            "  (2): Conv1d(15, 15, kernel_size=(3,), stride=(2,))\n",
            "  (3): ReLU()\n",
            "  (4): Conv1d(15, 15, kernel_size=(3,), stride=(2,))\n",
            "  (5): ReLU()\n",
            "  (6): Flatten(start_dim=1, end_dim=-1)\n",
            "  (7): Linear(in_features=60, out_features=10, bias=True)\n",
            ")\n"
          ]
        }
      ]
    },
    {
      "cell_type": "code",
      "source": [
        "# He initialization of weights\n",
        "def weights_init(layer_in):\n",
        "  if isinstance(layer_in, nn.Linear):\n",
        "    nn.init.kaiming_uniform_(layer_in.weight)\n",
        "    layer_in.bias.data.fill_(0.0)"
      ],
      "metadata": {
        "id": "YgLaex1pfhqz"
      },
      "execution_count": 7,
      "outputs": []
    },
    {
      "cell_type": "code",
      "source": [
        "# choose cross entropy loss function (equation 5.24 in the loss notes)\n",
        "loss_function = nn.CrossEntropyLoss()\n",
        "# construct SGD optimizer and initialize learning rate and momentum\n",
        "optimizer = torch.optim.SGD(model.parameters(), lr = 0.05, momentum=0.9)\n",
        "# object that decreases learning rate by half every 20 epochs\n",
        "scheduler = StepLR(optimizer, step_size=20, gamma=0.5)\n",
        "# create 100 dummy data points and store in data loader class\n",
        "x_train = torch.tensor(train_data_x.transpose().astype('float32'))\n",
        "y_train = torch.tensor(train_data_y.astype('long')).long()\n",
        "x_val= torch.tensor(val_data_x.transpose().astype('float32'))\n",
        "y_val = torch.tensor(val_data_y.astype('long')).long()\n",
        "\n",
        "# load the data into a class that creates the batches\n",
        "data_loader = DataLoader(TensorDataset(x_train,y_train), batch_size=100, shuffle=True, worker_init_fn=np.random.seed(1))\n",
        "\n",
        "# Initialize model weights\n",
        "model.apply(weights_init)\n",
        "\n",
        "# loop over the dataset n_epoch times\n",
        "n_epoch = 100\n",
        "# store the loss and the % correct at each epoch\n",
        "losses_train = np.zeros((n_epoch))\n",
        "errors_train = np.zeros((n_epoch))\n",
        "losses_val = np.zeros((n_epoch))\n",
        "errors_val = np.zeros((n_epoch))\n",
        "\n",
        "for epoch in range(n_epoch):\n",
        "  # loop over batches\n",
        "  for i, data in enumerate(data_loader):\n",
        "    # retrieve inputs and labels for this batch\n",
        "    x_batch, y_batch = data\n",
        "    # zero the parameter gradients\n",
        "    optimizer.zero_grad()\n",
        "    # forward pass -- calculate model output\n",
        "    pred = model(x_batch[:,None,:])\n",
        "    # compute the loss\n",
        "    loss = loss_function(pred, y_batch)\n",
        "    # backward pass\n",
        "    loss.backward()\n",
        "    # SGD update\n",
        "    optimizer.step()\n",
        "\n",
        "  # Run whole dataset to get statistics -- normally wouldn't do this\n",
        "  pred_train = model(x_train[:,None,:])\n",
        "  pred_val = model(x_val[:,None,:])\n",
        "  _, predicted_train_class = torch.max(pred_train.data, 1)\n",
        "  _, predicted_val_class = torch.max(pred_val.data, 1)\n",
        "  errors_train[epoch] = 100 - 100 * (predicted_train_class == y_train).float().sum() / len(y_train)\n",
        "  errors_val[epoch]= 100 - 100 * (predicted_val_class == y_val).float().sum() / len(y_val)\n",
        "  losses_train[epoch] = loss_function(pred_train, y_train).item()\n",
        "  losses_val[epoch]= loss_function(pred_val, y_val).item()\n",
        "  print(f'Epoch {epoch:5d}, train loss {losses_train[epoch]:.6f}, train error {errors_train[epoch]:3.2f},  val loss {losses_val[epoch]:.6f}, percent error {errors_val[epoch]:3.2f}')\n",
        "\n",
        "  # tell scheduler to consider updating learning rate\n",
        "  scheduler.step()\n",
        "\n",
        "# Plot the results\n",
        "fig, ax = plt.subplots()\n",
        "ax.plot(errors_train,'r-',label='train')\n",
        "ax.plot(errors_val,'b-',label='validation')\n",
        "ax.set_ylim(0,100); ax.set_xlim(0,n_epoch)\n",
        "ax.set_xlabel('Epoch'); ax.set_ylabel('Error')\n",
        "ax.set_title('Part I: Validation Result %3.2f'%(errors_val[-1]))\n",
        "ax.legend()\n",
        "plt.show()"
      ],
      "metadata": {
        "id": "NYw8I_3mmX5c",
        "outputId": "24c3ed4f-35f3-42a9-cd54-c85b1b95ae8a",
        "colab": {
          "base_uri": "https://localhost:8080/",
          "height": 1000
        }
      },
      "execution_count": 8,
      "outputs": [
        {
          "output_type": "stream",
          "name": "stdout",
          "text": [
            "Epoch     0, train loss 2.207161, train error 83.72,  val loss 2.229421, percent error 84.00\n",
            "Epoch     1, train loss 1.718339, train error 68.22,  val loss 1.750087, percent error 72.50\n",
            "Epoch     2, train loss 1.426509, train error 57.08,  val loss 1.451332, percent error 59.80\n",
            "Epoch     3, train loss 1.313457, train error 53.10,  val loss 1.331940, percent error 54.00\n",
            "Epoch     4, train loss 1.283213, train error 52.15,  val loss 1.317064, percent error 55.00\n",
            "Epoch     5, train loss 1.213135, train error 49.80,  val loss 1.254842, percent error 51.70\n",
            "Epoch     6, train loss 1.112018, train error 44.38,  val loss 1.127338, percent error 46.40\n",
            "Epoch     7, train loss 0.978507, train error 38.25,  val loss 1.022619, percent error 42.00\n",
            "Epoch     8, train loss 0.897007, train error 34.55,  val loss 0.953161, percent error 36.30\n",
            "Epoch     9, train loss 0.846518, train error 33.10,  val loss 0.903571, percent error 34.50\n",
            "Epoch    10, train loss 0.679650, train error 25.57,  val loss 0.739110, percent error 27.30\n",
            "Epoch    11, train loss 0.665192, train error 24.68,  val loss 0.730981, percent error 28.00\n",
            "Epoch    12, train loss 0.536278, train error 19.30,  val loss 0.620821, percent error 23.70\n",
            "Epoch    13, train loss 0.443453, train error 15.90,  val loss 0.529392, percent error 18.20\n",
            "Epoch    14, train loss 0.427310, train error 16.80,  val loss 0.501889, percent error 17.50\n",
            "Epoch    15, train loss 0.392092, train error 14.22,  val loss 0.465013, percent error 15.60\n",
            "Epoch    16, train loss 0.370555, train error 13.68,  val loss 0.481734, percent error 17.10\n",
            "Epoch    17, train loss 0.314824, train error 11.07,  val loss 0.436521, percent error 15.10\n",
            "Epoch    18, train loss 0.330004, train error 11.50,  val loss 0.441098, percent error 14.50\n",
            "Epoch    19, train loss 0.317876, train error 11.10,  val loss 0.432382, percent error 14.30\n",
            "Epoch    20, train loss 0.219784, train error 7.05,  val loss 0.361525, percent error 11.90\n",
            "Epoch    21, train loss 0.212991, train error 6.70,  val loss 0.363505, percent error 12.70\n",
            "Epoch    22, train loss 0.213261, train error 7.05,  val loss 0.359189, percent error 12.00\n",
            "Epoch    23, train loss 0.194717, train error 6.47,  val loss 0.378369, percent error 12.10\n",
            "Epoch    24, train loss 0.188552, train error 6.90,  val loss 0.377943, percent error 12.30\n",
            "Epoch    25, train loss 0.162707, train error 5.30,  val loss 0.340654, percent error 11.10\n",
            "Epoch    26, train loss 0.193796, train error 6.60,  val loss 0.349830, percent error 11.10\n",
            "Epoch    27, train loss 0.154205, train error 5.45,  val loss 0.344446, percent error 10.20\n",
            "Epoch    28, train loss 0.149984, train error 4.82,  val loss 0.328646, percent error 11.20\n",
            "Epoch    29, train loss 0.170159, train error 5.62,  val loss 0.368861, percent error 11.40\n",
            "Epoch    30, train loss 0.160927, train error 5.45,  val loss 0.365179, percent error 10.60\n",
            "Epoch    31, train loss 0.163324, train error 5.70,  val loss 0.374862, percent error 10.60\n",
            "Epoch    32, train loss 0.126730, train error 4.07,  val loss 0.332352, percent error 9.50\n",
            "Epoch    33, train loss 0.126728, train error 4.30,  val loss 0.338610, percent error 9.80\n",
            "Epoch    34, train loss 0.111513, train error 3.78,  val loss 0.359739, percent error 10.30\n",
            "Epoch    35, train loss 0.135644, train error 4.97,  val loss 0.333429, percent error 9.60\n",
            "Epoch    36, train loss 0.158802, train error 6.07,  val loss 0.382364, percent error 9.50\n",
            "Epoch    37, train loss 0.150150, train error 5.00,  val loss 0.413457, percent error 11.70\n",
            "Epoch    38, train loss 0.109409, train error 3.57,  val loss 0.334128, percent error 9.00\n",
            "Epoch    39, train loss 0.113985, train error 3.78,  val loss 0.346652, percent error 9.10\n",
            "Epoch    40, train loss 0.082975, train error 2.65,  val loss 0.335586, percent error 9.50\n",
            "Epoch    41, train loss 0.091897, train error 3.20,  val loss 0.355314, percent error 9.00\n",
            "Epoch    42, train loss 0.099318, train error 3.32,  val loss 0.380718, percent error 11.10\n",
            "Epoch    43, train loss 0.074763, train error 2.12,  val loss 0.349694, percent error 9.10\n",
            "Epoch    44, train loss 0.074607, train error 2.22,  val loss 0.357651, percent error 9.10\n",
            "Epoch    45, train loss 0.072619, train error 2.03,  val loss 0.369357, percent error 9.40\n",
            "Epoch    46, train loss 0.069834, train error 1.97,  val loss 0.352927, percent error 9.30\n",
            "Epoch    47, train loss 0.066277, train error 1.82,  val loss 0.343358, percent error 9.20\n",
            "Epoch    48, train loss 0.066348, train error 1.90,  val loss 0.352100, percent error 9.20\n",
            "Epoch    49, train loss 0.067617, train error 1.68,  val loss 0.361372, percent error 8.60\n",
            "Epoch    50, train loss 0.067294, train error 1.90,  val loss 0.359297, percent error 8.70\n",
            "Epoch    51, train loss 0.064355, train error 1.93,  val loss 0.380060, percent error 9.30\n",
            "Epoch    52, train loss 0.063691, train error 1.65,  val loss 0.365920, percent error 9.30\n",
            "Epoch    53, train loss 0.058653, train error 1.53,  val loss 0.382548, percent error 9.40\n",
            "Epoch    54, train loss 0.060370, train error 1.65,  val loss 0.397212, percent error 9.30\n",
            "Epoch    55, train loss 0.056087, train error 1.40,  val loss 0.378508, percent error 9.40\n",
            "Epoch    56, train loss 0.066075, train error 2.00,  val loss 0.409557, percent error 8.90\n",
            "Epoch    57, train loss 0.056865, train error 1.50,  val loss 0.402737, percent error 9.70\n",
            "Epoch    58, train loss 0.092305, train error 3.18,  val loss 0.419082, percent error 10.40\n",
            "Epoch    59, train loss 0.055263, train error 1.35,  val loss 0.404432, percent error 9.20\n",
            "Epoch    60, train loss 0.049024, train error 1.10,  val loss 0.382561, percent error 9.10\n",
            "Epoch    61, train loss 0.049059, train error 1.10,  val loss 0.371991, percent error 8.90\n",
            "Epoch    62, train loss 0.048945, train error 1.25,  val loss 0.393207, percent error 9.90\n",
            "Epoch    63, train loss 0.045502, train error 0.85,  val loss 0.391977, percent error 9.10\n",
            "Epoch    64, train loss 0.045885, train error 0.95,  val loss 0.390274, percent error 8.50\n",
            "Epoch    65, train loss 0.043329, train error 0.93,  val loss 0.387518, percent error 9.30\n",
            "Epoch    66, train loss 0.045757, train error 0.95,  val loss 0.390588, percent error 9.60\n",
            "Epoch    67, train loss 0.041539, train error 0.78,  val loss 0.401609, percent error 9.50\n",
            "Epoch    68, train loss 0.042054, train error 0.70,  val loss 0.403289, percent error 9.70\n",
            "Epoch    69, train loss 0.041654, train error 0.80,  val loss 0.402196, percent error 9.30\n",
            "Epoch    70, train loss 0.041264, train error 0.80,  val loss 0.401419, percent error 9.60\n",
            "Epoch    71, train loss 0.040586, train error 0.78,  val loss 0.410454, percent error 9.40\n",
            "Epoch    72, train loss 0.044845, train error 0.97,  val loss 0.414898, percent error 9.10\n",
            "Epoch    73, train loss 0.039994, train error 0.78,  val loss 0.408648, percent error 9.80\n",
            "Epoch    74, train loss 0.038418, train error 0.75,  val loss 0.406420, percent error 9.30\n",
            "Epoch    75, train loss 0.038709, train error 0.82,  val loss 0.410176, percent error 9.40\n",
            "Epoch    76, train loss 0.038118, train error 0.60,  val loss 0.422795, percent error 9.50\n",
            "Epoch    77, train loss 0.037559, train error 0.60,  val loss 0.411133, percent error 9.70\n",
            "Epoch    78, train loss 0.038139, train error 0.80,  val loss 0.407427, percent error 9.40\n",
            "Epoch    79, train loss 0.037269, train error 0.70,  val loss 0.416231, percent error 9.30\n",
            "Epoch    80, train loss 0.035278, train error 0.55,  val loss 0.415313, percent error 9.40\n",
            "Epoch    81, train loss 0.035189, train error 0.62,  val loss 0.421295, percent error 9.50\n",
            "Epoch    82, train loss 0.034769, train error 0.50,  val loss 0.422655, percent error 9.20\n",
            "Epoch    83, train loss 0.034670, train error 0.62,  val loss 0.426275, percent error 9.70\n",
            "Epoch    84, train loss 0.034192, train error 0.53,  val loss 0.424836, percent error 9.50\n",
            "Epoch    85, train loss 0.033988, train error 0.60,  val loss 0.423026, percent error 9.50\n",
            "Epoch    86, train loss 0.033846, train error 0.50,  val loss 0.423391, percent error 9.20\n",
            "Epoch    87, train loss 0.033986, train error 0.47,  val loss 0.426691, percent error 9.20\n",
            "Epoch    88, train loss 0.034149, train error 0.60,  val loss 0.429366, percent error 9.40\n",
            "Epoch    89, train loss 0.033843, train error 0.60,  val loss 0.430116, percent error 9.20\n",
            "Epoch    90, train loss 0.032976, train error 0.45,  val loss 0.428318, percent error 9.50\n",
            "Epoch    91, train loss 0.033206, train error 0.55,  val loss 0.429710, percent error 9.30\n",
            "Epoch    92, train loss 0.032911, train error 0.50,  val loss 0.429705, percent error 9.50\n",
            "Epoch    93, train loss 0.033129, train error 0.57,  val loss 0.434040, percent error 9.90\n",
            "Epoch    94, train loss 0.033759, train error 0.53,  val loss 0.445010, percent error 9.60\n",
            "Epoch    95, train loss 0.032160, train error 0.47,  val loss 0.433987, percent error 9.60\n",
            "Epoch    96, train loss 0.032468, train error 0.55,  val loss 0.441952, percent error 9.60\n",
            "Epoch    97, train loss 0.031447, train error 0.45,  val loss 0.433616, percent error 9.50\n",
            "Epoch    98, train loss 0.031635, train error 0.50,  val loss 0.432279, percent error 9.40\n",
            "Epoch    99, train loss 0.031632, train error 0.50,  val loss 0.436335, percent error 9.70\n"
          ]
        },
        {
          "output_type": "display_data",
          "data": {
            "text/plain": [
              "<Figure size 640x480 with 1 Axes>"
            ],
            "image/png": "[encoded data removed]"
          },
          "metadata": {}
        }
      ]
    }
  ]
}